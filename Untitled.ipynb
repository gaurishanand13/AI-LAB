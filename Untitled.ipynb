{
 "cells": [
  {
   "cell_type": "markdown",
   "metadata": {},
   "source": [
    "## LEARNING NUMPY"
   ]
  },
  {
   "cell_type": "code",
   "execution_count": 1,
   "metadata": {},
   "outputs": [],
   "source": [
    "# Importing numpty dependency\n",
    "import numpy as np "
   ]
  },
  {
   "cell_type": "markdown",
   "metadata": {},
   "source": [
    "##### Always consider an array in numpy as a matrix only, shape represents (ROWS x COLS)"
   ]
  },
  {
   "cell_type": "code",
   "execution_count": 6,
   "metadata": {},
   "outputs": [
    {
     "name": "stdout",
     "output_type": "stream",
     "text": [
      "array =  [1 2 3 4 5]\n",
      "shape =  (5,)\n",
      "element at 2nd index =  3\n",
      "data type of array =  <class 'numpy.ndarray'>\n",
      "sum of elements =  15\n"
     ]
    }
   ],
   "source": [
    "array = np.array([1,2,3,4,5])\n",
    "print('array = ',array)\n",
    "print('shape = ',array.shape)\n",
    "print('element at 2nd index = ',array[2])\n",
    "print('data type of array = ',type(array))\n",
    "print('sum of elements = ',np.sum(array))"
   ]
  },
  {
   "cell_type": "code",
   "execution_count": 9,
   "metadata": {},
   "outputs": [
    {
     "name": "stdout",
     "output_type": "stream",
     "text": [
      "secondArray = \n",
      "[[1 2 3]\n",
      " [4 5 6]]\n",
      "shape =  (2, 3)\n",
      "element at 1,1 block =  5\n",
      "data type of secondArray =  <class 'numpy.ndarray'>\n",
      "sum of elements =  21\n"
     ]
    }
   ],
   "source": [
    "secondArray = np.array([ \n",
    "    [1,2,3], \n",
    "    [4,5,6] \n",
    "])\n",
    "print('secondArray = ',secondArray, sep='\\n')\n",
    "print('shape = ',secondArray.shape)\n",
    "print('element at 1,1 block = ',secondArray[1][1])\n",
    "print('data type of secondArray = ',type(secondArray))\n",
    "print('sum of elements = ',np.sum(secondArray))"
   ]
  },
  {
   "cell_type": "markdown",
   "metadata": {},
   "source": [
    "##### Making an Identity matrix (2-D Array) using numpy"
   ]
  },
  {
   "cell_type": "code",
   "execution_count": 19,
   "metadata": {},
   "outputs": [
    {
     "name": "stdout",
     "output_type": "stream",
     "text": [
      "(5, 5)\n",
      "[[1. 0. 0. 0. 0.]\n",
      " [0. 1. 0. 0. 0.]\n",
      " [0. 0. 1. 0. 0.]\n",
      " [0. 0. 0. 1. 0.]\n",
      " [0. 0. 0. 0. 1.]]\n"
     ]
    }
   ],
   "source": [
    "identityMatrix = np.eye(5) # It means identity matrix of size 5x5\n",
    "print(identityMatrix.shape)\n",
    "print(identityMatrix)"
   ]
  },
  {
   "cell_type": "code",
   "execution_count": 20,
   "metadata": {},
   "outputs": [
    {
     "name": "stdout",
     "output_type": "stream",
     "text": [
      "(5, 5)\n",
      "[[1 0 0 0 0]\n",
      " [0 1 0 0 0]\n",
      " [0 0 1 0 0]\n",
      " [0 0 0 1 0]\n",
      " [0 0 0 0 1]]\n"
     ]
    }
   ],
   "source": [
    "identityMatrix = np.eye(5,dtype=np.int64) \n",
    "print(identityMatrix.shape)\n",
    "print(identityMatrix)"
   ]
  },
  {
   "cell_type": "markdown",
   "metadata": {},
   "source": [
    "##### Making a zero matrix (2-D Array) using numpy"
   ]
  },
  {
   "cell_type": "code",
   "execution_count": 11,
   "metadata": {},
   "outputs": [
    {
     "name": "stdout",
     "output_type": "stream",
     "text": [
      "(3, 4)\n",
      "[[0 0 0 0]\n",
      " [0 0 0 0]\n",
      " [0 0 0 0]]\n"
     ]
    }
   ],
   "source": [
    "zeroMatrix = np.zeros((3,4),dtype=np.int64)\n",
    "print(zeroMatrix.shape)\n",
    "print(zeroMatrix)"
   ]
  },
  {
   "cell_type": "markdown",
   "metadata": {},
   "source": [
    "##### Matrix of all ones"
   ]
  },
  {
   "cell_type": "code",
   "execution_count": 15,
   "metadata": {},
   "outputs": [
    {
     "name": "stdout",
     "output_type": "stream",
     "text": [
      "(3, 4)\n",
      "[[1. 1. 1. 1.]\n",
      " [1. 1. 1. 1.]\n",
      " [1. 1. 1. 1.]]\n"
     ]
    }
   ],
   "source": [
    "onesMatrix = np.ones((3,4)) # By default data type is float, but we express it in int too as shown above.\n",
    "print(onesMatrix.shape)\n",
    "print(onesMatrix)"
   ]
  },
  {
   "cell_type": "markdown",
   "metadata": {},
   "source": [
    "##### Initialized Matrix"
   ]
  },
  {
   "cell_type": "code",
   "execution_count": 16,
   "metadata": {},
   "outputs": [
    {
     "name": "stdout",
     "output_type": "stream",
     "text": [
      "(3, 2)\n",
      "[[100 100]\n",
      " [100 100]\n",
      " [100 100]]\n"
     ]
    }
   ],
   "source": [
    "# Initializing all the elements of matrix with 150\n",
    "initMatrix = np.full((3,2),100)  \n",
    "print(initMatrix.shape)\n",
    "print(initMatrix)"
   ]
  },
  {
   "cell_type": "markdown",
   "metadata": {},
   "source": [
    "##### Data Types in numpy"
   ]
  },
  {
   "cell_type": "code",
   "execution_count": 18,
   "metadata": {},
   "outputs": [
    {
     "name": "stdout",
     "output_type": "stream",
     "text": [
      "<class 'numpy.ndarray'>\n",
      "0 = <class 'numpy.int64'>\n",
      "1.0 = <class 'numpy.float64'>\n"
     ]
    }
   ],
   "source": [
    "print(type(zeroMatrix))\n",
    "print(zeroMatrix[0][0], '=', type(zeroMatrix[0][0]))\n",
    "print(onesMatrix[0][0], '=', type(onesMatrix[0][0]))"
   ]
  },
  {
   "cell_type": "markdown",
   "metadata": {},
   "source": [
    "##### ADDITION AND SUBSTRACTION IN MATRIX"
   ]
  },
  {
   "cell_type": "code",
   "execution_count": 14,
   "metadata": {},
   "outputs": [
    {
     "name": "stdout",
     "output_type": "stream",
     "text": [
      "Addition of number in matrix\n",
      "[[1 1 1 1]\n",
      " [1 1 1 1]\n",
      " [1 1 1 1]]\n",
      "Subtraction of number in matrix\n",
      "[[-2 -2 -2 -2]\n",
      " [-2 -2 -2 -2]\n",
      " [-2 -2 -2 -2]]\n"
     ]
    }
   ],
   "source": [
    "\n",
    "# Here 1 will be added to each element in numpy array\n",
    "print('Addition of number in matrix',zeroMatrix+1 , sep='\\n')\n",
    "\n",
    "# Here 2 will be subtracted from each element.\n",
    "print('Subtraction of number in matrix',zeroMatrix-2 , sep='\\n')\n"
   ]
  },
  {
   "cell_type": "code",
   "execution_count": null,
   "metadata": {},
   "outputs": [],
   "source": [
    "##### Counting Unqiue elements in the array - "
   ]
  }
 ],
 "metadata": {
  "kernelspec": {
   "display_name": "Python 3",
   "language": "python",
   "name": "python3"
  },
  "language_info": {
   "codemirror_mode": {
    "name": "ipython",
    "version": 3
   },
   "file_extension": ".py",
   "mimetype": "text/x-python",
   "name": "python",
   "nbconvert_exporter": "python",
   "pygments_lexer": "ipython3",
   "version": "3.8.3"
  }
 },
 "nbformat": 4,
 "nbformat_minor": 4
}
