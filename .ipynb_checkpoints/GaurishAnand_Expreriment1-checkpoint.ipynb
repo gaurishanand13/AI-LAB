{
 "cells": [
  {
   "cell_type": "markdown",
   "metadata": {},
   "source": [
    "## LEARNING NUMPY"
   ]
  },
  {
   "cell_type": "code",
   "execution_count": 1,
   "metadata": {},
   "outputs": [],
   "source": [
    "# Importing numpty dependency\n",
    "import numpy as np "
   ]
  },
  {
   "cell_type": "markdown",
   "metadata": {},
   "source": [
    "##### Always consider an array in numpy as a matrix only, shape represents (ROWS x COLS)"
   ]
  },
  {
   "cell_type": "code",
   "execution_count": 24,
   "metadata": {},
   "outputs": [
    {
     "name": "stdout",
     "output_type": "stream",
     "text": [
      "array =  [1 2 3 4 5]\n",
      "shape =  (5,)\n",
      "element at 2nd index =  3\n",
      "element at 2nd last index =  4\n",
      "data type of array =  <class 'numpy.ndarray'>\n",
      "sum of elements =  15\n"
     ]
    }
   ],
   "source": [
    "array = np.array([1,2,3,4,5])\n",
    "print('array = ',array)\n",
    "print('shape = ',array.shape)\n",
    "print('element at 2nd index = ',array[2])\n",
    "print('element at 2nd last index = ',array[-2])\n",
    "print('data type of array = ',type(array))\n",
    "print('sum of elements = ',np.sum(array))"
   ]
  },
  {
   "cell_type": "code",
   "execution_count": 9,
   "metadata": {},
   "outputs": [
    {
     "name": "stdout",
     "output_type": "stream",
     "text": [
      "secondArray = \n",
      "[[1 2 3]\n",
      " [4 5 6]]\n",
      "shape =  (2, 3)\n",
      "element at 1,1 block =  5\n",
      "data type of secondArray =  <class 'numpy.ndarray'>\n",
      "sum of elements =  21\n"
     ]
    }
   ],
   "source": [
    "secondArray = np.array([ \n",
    "    [1,2,3], \n",
    "    [4,5,6] \n",
    "])\n",
    "print('secondArray = ',secondArray, sep='\\n')\n",
    "print('shape = ',secondArray.shape)\n",
    "print('element at 1,1 block = ',secondArray[1][1])\n",
    "print('data type of secondArray = ',type(secondArray))\n",
    "print('sum of elements = ',np.sum(secondArray))"
   ]
  },
  {
   "cell_type": "markdown",
   "metadata": {},
   "source": [
    "##### Making an Identity matrix (2-D Array) using numpy"
   ]
  },
  {
   "cell_type": "code",
   "execution_count": 19,
   "metadata": {},
   "outputs": [
    {
     "name": "stdout",
     "output_type": "stream",
     "text": [
      "(5, 5)\n",
      "[[1. 0. 0. 0. 0.]\n",
      " [0. 1. 0. 0. 0.]\n",
      " [0. 0. 1. 0. 0.]\n",
      " [0. 0. 0. 1. 0.]\n",
      " [0. 0. 0. 0. 1.]]\n"
     ]
    }
   ],
   "source": [
    "identityMatrix = np.eye(5) # It means identity matrix of size 5x5\n",
    "print(identityMatrix.shape)\n",
    "print(identityMatrix)"
   ]
  },
  {
   "cell_type": "code",
   "execution_count": 20,
   "metadata": {},
   "outputs": [
    {
     "name": "stdout",
     "output_type": "stream",
     "text": [
      "(5, 5)\n",
      "[[1 0 0 0 0]\n",
      " [0 1 0 0 0]\n",
      " [0 0 1 0 0]\n",
      " [0 0 0 1 0]\n",
      " [0 0 0 0 1]]\n"
     ]
    }
   ],
   "source": [
    "identityMatrix = np.eye(5,dtype=np.int64) \n",
    "print(identityMatrix.shape)\n",
    "print(identityMatrix)"
   ]
  },
  {
   "cell_type": "markdown",
   "metadata": {},
   "source": [
    "##### Making a zero matrix (2-D Array) using numpy"
   ]
  },
  {
   "cell_type": "code",
   "execution_count": 11,
   "metadata": {},
   "outputs": [
    {
     "name": "stdout",
     "output_type": "stream",
     "text": [
      "(3, 4)\n",
      "[[0 0 0 0]\n",
      " [0 0 0 0]\n",
      " [0 0 0 0]]\n"
     ]
    }
   ],
   "source": [
    "zeroMatrix = np.zeros((3,4),dtype=np.int64)\n",
    "print(zeroMatrix.shape)\n",
    "print(zeroMatrix)"
   ]
  },
  {
   "cell_type": "markdown",
   "metadata": {},
   "source": [
    "##### Matrix of all ones"
   ]
  },
  {
   "cell_type": "code",
   "execution_count": 15,
   "metadata": {},
   "outputs": [
    {
     "name": "stdout",
     "output_type": "stream",
     "text": [
      "(3, 4)\n",
      "[[1. 1. 1. 1.]\n",
      " [1. 1. 1. 1.]\n",
      " [1. 1. 1. 1.]]\n"
     ]
    }
   ],
   "source": [
    "onesMatrix = np.ones((3,4)) # By default data type is float, but we express it in int too as shown above.\n",
    "print(onesMatrix.shape)\n",
    "print(onesMatrix)"
   ]
  },
  {
   "cell_type": "markdown",
   "metadata": {},
   "source": [
    "##### Initialized Matrix"
   ]
  },
  {
   "cell_type": "code",
   "execution_count": 16,
   "metadata": {},
   "outputs": [
    {
     "name": "stdout",
     "output_type": "stream",
     "text": [
      "(3, 2)\n",
      "[[100 100]\n",
      " [100 100]\n",
      " [100 100]]\n"
     ]
    }
   ],
   "source": [
    "# Initializing all the elements of matrix with 150\n",
    "initMatrix = np.full((3,2),100)  \n",
    "print(initMatrix.shape)\n",
    "print(initMatrix)"
   ]
  },
  {
   "cell_type": "markdown",
   "metadata": {},
   "source": [
    "##### Data Types in numpy"
   ]
  },
  {
   "cell_type": "code",
   "execution_count": 18,
   "metadata": {},
   "outputs": [
    {
     "name": "stdout",
     "output_type": "stream",
     "text": [
      "<class 'numpy.ndarray'>\n",
      "0 = <class 'numpy.int64'>\n",
      "1.0 = <class 'numpy.float64'>\n"
     ]
    }
   ],
   "source": [
    "print(type(zeroMatrix))\n",
    "print(zeroMatrix[0][0], '=', type(zeroMatrix[0][0]))\n",
    "print(onesMatrix[0][0], '=', type(onesMatrix[0][0]))"
   ]
  },
  {
   "cell_type": "markdown",
   "metadata": {},
   "source": [
    "##### ADDITION AND SUBSTRACTION IN NUMPY"
   ]
  },
  {
   "cell_type": "code",
   "execution_count": 14,
   "metadata": {},
   "outputs": [
    {
     "name": "stdout",
     "output_type": "stream",
     "text": [
      "Addition of number in matrix\n",
      "[[1 1 1 1]\n",
      " [1 1 1 1]\n",
      " [1 1 1 1]]\n",
      "Subtraction of number in matrix\n",
      "[[-2 -2 -2 -2]\n",
      " [-2 -2 -2 -2]\n",
      " [-2 -2 -2 -2]]\n"
     ]
    }
   ],
   "source": [
    "\n",
    "# Here 1 will be added to each element in numpy array\n",
    "print('Addition of number in matrix',zeroMatrix+1 , sep='\\n')\n",
    "\n",
    "# Here 2 will be subtracted from each element.\n",
    "print('Subtraction of number in matrix',zeroMatrix-2 , sep='\\n')\n"
   ]
  },
  {
   "cell_type": "markdown",
   "metadata": {},
   "source": [
    "##### Counting Unqiue elements in the array - "
   ]
  },
  {
   "cell_type": "code",
   "execution_count": 29,
   "metadata": {},
   "outputs": [
    {
     "name": "stdout",
     "output_type": "stream",
     "text": [
      "Unique elements are :   [ 1  2  3  4  5 10 15 20]\n"
     ]
    }
   ],
   "source": [
    "npArray = np.array([\n",
    "    [1,2,3,4],\n",
    "    [2,4,5,20],\n",
    "    [10,4,15,20]\n",
    "])\n",
    "uniqueElementsArray = np.unique(npArray)\n",
    "print(\"Unique elements are :  \", uniqueElementsArray)"
   ]
  },
  {
   "cell_type": "markdown",
   "metadata": {},
   "source": [
    "##### Slicing in numpy array"
   ]
  },
  {
   "cell_type": "code",
   "execution_count": 30,
   "metadata": {},
   "outputs": [
    {
     "name": "stdout",
     "output_type": "stream",
     "text": [
      "[ 3  6 15]\n"
     ]
    }
   ],
   "source": [
    "npArray = np.array([\n",
    "    [1,2,3,4],\n",
    "    [2,4,6,20],\n",
    "    [10,13,15,18]\n",
    "])\n",
    "\n",
    "# Get all the elements of the 2nd column - it will be returned in the form of 1D numpy array\n",
    "print(npArray[:,2])"
   ]
  },
  {
   "cell_type": "code",
   "execution_count": 31,
   "metadata": {},
   "outputs": [
    {
     "name": "stdout",
     "output_type": "stream",
     "text": [
      "[ 4  6 20]\n"
     ]
    }
   ],
   "source": [
    "# Get all the elements of 1st row index starting from 1st index\n",
    "print(npArray[1,1:])"
   ]
  },
  {
   "cell_type": "code",
   "execution_count": 32,
   "metadata": {},
   "outputs": [
    {
     "name": "stdout",
     "output_type": "stream",
     "text": [
      "[ 4  6 20]\n"
     ]
    }
   ],
   "source": [
    "# Get all the elements of 1st row index starting from 1st index\n",
    "print(npArray[1,1:])"
   ]
  },
  {
   "cell_type": "markdown",
   "metadata": {},
   "source": [
    "##### SOME NUMPY FUNCTIONS "
   ]
  },
  {
   "cell_type": "code",
   "execution_count": 47,
   "metadata": {},
   "outputs": [
    {
     "name": "stdout",
     "output_type": "stream",
     "text": [
      "Sorted array: \n",
      "[[ 1  2  3  4]\n",
      " [ 2  4  6 20]\n",
      " [10 13 15 18]]\n"
     ]
    }
   ],
   "source": [
    "npArray.sort()\n",
    "print(\"Sorted array: \", npArray, sep='\\n')"
   ]
  },
  {
   "cell_type": "code",
   "execution_count": 52,
   "metadata": {},
   "outputs": [
    {
     "name": "stdout",
     "output_type": "stream",
     "text": [
      "Mean:  8.166666666666666\n",
      "Median:  41.97222222222222\n",
      "Sum:  98\n",
      "Max element:  20\n",
      "Min element:  1\n",
      "Standard Deviation:  6.478597241858937\n",
      "Variance:  41.97222222222222\n",
      "Square root array: \n",
      "[[1.         1.41421356 1.73205081 2.        ]\n",
      " [1.41421356 2.         2.44948974 4.47213595]\n",
      " [3.16227766 3.60555128 3.87298335 4.24264069]]\n"
     ]
    }
   ],
   "source": [
    "mean = np.mean(npArray)\n",
    "median = np.median(npArray)\n",
    "sumOfNumbers = np.sum(npArray)\n",
    "sqrtArray = np.sqrt(npArray)\n",
    "standardDeviation = np.std(npArray)\n",
    "variance = np.var(npArray)\n",
    "minElement = np.min(npArray)\n",
    "maxElement = np.max(npArray)\n",
    "\n",
    "print(\"Mean: \", mean)\n",
    "print(\"Median: \",variance)\n",
    "print(\"Sum: \", sumOfNumbers)\n",
    "print(\"Max element: \", maxElement)\n",
    "print(\"Min element: \", minElement)\n",
    "print(\"Standard Deviation: \",standardDeviation)\n",
    "print(\"Variance: \",variance)\n",
    "print(\"Square root array: \", sqrtArray , sep='\\n')"
   ]
  },
  {
   "cell_type": "code",
   "execution_count": 39,
   "metadata": {},
   "outputs": [
    {
     "name": "stdout",
     "output_type": "stream",
     "text": [
      "(4, 4)\n",
      "[[ 8 10  7  9]\n",
      " [ 2 12  0 11]\n",
      " [10  9  9 13]\n",
      " [14  4 10  3]]\n"
     ]
    }
   ],
   "source": [
    "# making a random numpy array and getting all the number in the array b/w certain range\n",
    "a = np.random.randint(0,15, size=(4,4))\n",
    "print(a.shape)\n",
    "print(a)"
   ]
  },
  {
   "cell_type": "code",
   "execution_count": 41,
   "metadata": {},
   "outputs": [
    {
     "name": "stdout",
     "output_type": "stream",
     "text": [
      "(2, 8)\n",
      "[[ 8 10  7  9  2 12  0 11]\n",
      " [10  9  9 13 14  4 10  3]]\n"
     ]
    }
   ],
   "source": [
    "# Reshaping a numpy array to some other shape\n",
    "reshapedArray = a.reshape(2,8)\n",
    "print(reshapedArray.shape)\n",
    "print(reshapedArray)"
   ]
  },
  {
   "cell_type": "code",
   "execution_count": 43,
   "metadata": {},
   "outputs": [
    {
     "name": "stdout",
     "output_type": "stream",
     "text": [
      "[[8, 10, 7, 9, 2, 12, 0, 11], [10, 9, 9, 13, 14, 4, 10, 3]]\n"
     ]
    }
   ],
   "source": [
    "# Reshaping a numpy array to a list\n",
    "listFromArray = reshapedArray.tolist()\n",
    "print(listFromArray)"
   ]
  },
  {
   "cell_type": "code",
   "execution_count": 46,
   "metadata": {},
   "outputs": [
    {
     "name": "stdout",
     "output_type": "stream",
     "text": [
      "[[1 4 7]\n",
      " [2 5 8]\n",
      " [3 6 9]]\n"
     ]
    }
   ],
   "source": [
    "# Getting transpose of a numpy matrix\n",
    "X = np.array([\n",
    "    [1,2,3],\n",
    "    [4,5,6],\n",
    "    [7,8,9]\n",
    "])\n",
    "Y = np.transpose(X) #Taking Y transpose of the above\n",
    "print(Y)"
   ]
  },
  {
   "cell_type": "code",
   "execution_count": 53,
   "metadata": {},
   "outputs": [
    {
     "name": "stdout",
     "output_type": "stream",
     "text": [
      "[[ 2  3  4]\n",
      " [ 5  6  7]\n",
      " [ 8  9 10]]\n"
     ]
    }
   ],
   "source": [
    "# Matrix addition\n",
    "X = np.array([\n",
    "    [1,2,3],\n",
    "    [4,5,6],\n",
    "    [7,8,9]\n",
    "])\n",
    "Y = np.array([\n",
    "    [1,1,1],\n",
    "    [1,1,1],\n",
    "    [1,1,1]\n",
    "])\n",
    "\n",
    "print(np.add(X,Y))"
   ]
  },
  {
   "cell_type": "code",
   "execution_count": 55,
   "metadata": {},
   "outputs": [
    {
     "name": "stdout",
     "output_type": "stream",
     "text": [
      "[[1 2 3]\n",
      " [4 5 6]\n",
      " [7 8 9]]\n"
     ]
    }
   ],
   "source": [
    "print(np.multiply(X,Y))"
   ]
  },
  {
   "cell_type": "code",
   "execution_count": 57,
   "metadata": {},
   "outputs": [
    {
     "name": "stdout",
     "output_type": "stream",
     "text": [
      "[[0 1 2]\n",
      " [3 4 5]\n",
      " [6 7 8]]\n"
     ]
    }
   ],
   "source": [
    "print(np.subtract(X,Y))"
   ]
  },
  {
   "cell_type": "code",
   "execution_count": null,
   "metadata": {},
   "outputs": [],
   "source": []
  }
 ],
 "metadata": {
  "kernelspec": {
   "display_name": "Python 3",
   "language": "python",
   "name": "python3"
  },
  "language_info": {
   "codemirror_mode": {
    "name": "ipython",
    "version": 3
   },
   "file_extension": ".py",
   "mimetype": "text/x-python",
   "name": "python",
   "nbconvert_exporter": "python",
   "pygments_lexer": "ipython3",
   "version": "3.8.3"
  }
 },
 "nbformat": 4,
 "nbformat_minor": 4
}
