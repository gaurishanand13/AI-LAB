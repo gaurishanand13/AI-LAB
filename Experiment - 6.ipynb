{
 "cells": [
  {
   "cell_type": "code",
   "execution_count": 1,
   "metadata": {},
   "outputs": [],
   "source": [
    "from numpy import exp, random, array, dot"
   ]
  },
  {
   "cell_type": "code",
   "execution_count": 2,
   "metadata": {},
   "outputs": [],
   "source": [
    "import numpy as np"
   ]
  },
  {
   "cell_type": "code",
   "execution_count": 3,
   "metadata": {},
   "outputs": [],
   "source": [
    "class NeuralNet(object):\n",
    "    def __init__(self):\n",
    "        random.seed(1)\n",
    "\n",
    "        self.synaptic_weights = 2 * random.choice((3, 1)) - 1\n",
    "\n",
    "    def __sigmoid(self, x):\n",
    "        return 1 / (1 + exp(-x))\n",
    "\n",
    "    def __sigmoid_derivative(self, x):\n",
    "        return x * (1 - x)\n",
    "\n",
    "    def train(self, inputs, outputs, training_iterations):\n",
    "        for iteration in range(training_iterations):\n",
    "            output = self.learn(inputs)\n",
    "\n",
    "            error = outputs - output\n",
    "\n",
    "            factor = dot(inputs.T, error * self.__sigmoid_derivative(output))\n",
    "            self.synaptic_weights += factor\n",
    "\n",
    "    def learn(self, inputs):\n",
    "        return self.__sigmoid(dot(inputs, self.synaptic_weights))"
   ]
  },
  {
   "cell_type": "code",
   "execution_count": 4,
   "metadata": {},
   "outputs": [
    {
     "name": "stdout",
     "output_type": "stream",
     "text": [
      "The network gives value (after 200000 iterations): \n",
      "[9.99952396e-01 3.21162973e-05 9.99952450e-01]\n"
     ]
    }
   ],
   "source": [
    "neural_network = NeuralNet()\n",
    "inputs = np.array([\n",
    "    [0, 1, 1], \n",
    "    [1, 0, 0], \n",
    "    [1, 0, 1]\n",
    "])\n",
    "outputs = array([[1, 0, 1]])\n",
    "neural_network.train(inputs, outputs, 200000)\n",
    "print(\"The network gives value (after 200000 iterations): \")\n",
    "print(neural_network.learn(array([1, 0, 1])))"
   ]
  },
  {
   "cell_type": "code",
   "execution_count": null,
   "metadata": {},
   "outputs": [],
   "source": []
  }
 ],
 "metadata": {
  "kernelspec": {
   "display_name": "Python 3",
   "language": "python",
   "name": "python3"
  },
  "language_info": {
   "codemirror_mode": {
    "name": "ipython",
    "version": 3
   },
   "file_extension": ".py",
   "mimetype": "text/x-python",
   "name": "python",
   "nbconvert_exporter": "python",
   "pygments_lexer": "ipython3",
   "version": "3.8.3"
  }
 },
 "nbformat": 4,
 "nbformat_minor": 4
}
