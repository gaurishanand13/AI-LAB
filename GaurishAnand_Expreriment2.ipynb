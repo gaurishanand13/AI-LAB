{
 "cells": [
  {
   "cell_type": "code",
   "execution_count": 3,
   "metadata": {},
   "outputs": [],
   "source": [
    "import heapq\n",
    "import sys"
   ]
  },
  {
   "cell_type": "code",
   "execution_count": 5,
   "metadata": {},
   "outputs": [],
   "source": [
    "n = 5\n",
    "inf = sys.maxsize\n",
    "graph = [\n",
    "    [inf,inf,inf,inf,inf,inf],\n",
    "    [inf,inf,1,7,inf,inf],\n",
    "    [inf,inf,inf,inf,inf,5],\n",
    "    [inf,inf,1,inf,9,inf],\n",
    "    [inf,inf,inf,6,inf,inf],\n",
    "    [inf,inf,inf,inf,6,inf]\n",
    "]"
   ]
  },
  {
   "cell_type": "code",
   "execution_count": 6,
   "metadata": {},
   "outputs": [
    {
     "name": "stdout",
     "output_type": "stream",
     "text": [
      "9223372036854775807\n"
     ]
    }
   ],
   "source": [
    "print(inf)"
   ]
  },
  {
   "cell_type": "code",
   "execution_count": 10,
   "metadata": {},
   "outputs": [],
   "source": [
    "start = 1\n",
    "goal = 4"
   ]
  },
  {
   "cell_type": "code",
   "execution_count": 11,
   "metadata": {},
   "outputs": [],
   "source": [
    "visited = [False] * (n + 1)\n",
    "\n",
    "def dfs(start, goal, path = \"\"):\n",
    "    if(start == goal):\n",
    "        path = path + str(goal)\n",
    "        print(\"Path found: \", path)\n",
    "        return True\n",
    "\n",
    "    visited[start] = True\n",
    "    path = path + str(start) + \" -> \"\n",
    "    for i in range(1, n + 1):\n",
    "        if(visited[i] == False and graph[start][i] != inf):\n",
    "            if(dfs(i, goal, path) == True):\n",
    "                return True\n",
    "    \n",
    "    return False"
   ]
  },
  {
   "cell_type": "code",
   "execution_count": 12,
   "metadata": {},
   "outputs": [
    {
     "name": "stdout",
     "output_type": "stream",
     "text": [
      "Path found:  1 -> 2 -> 5 -> 4\n"
     ]
    },
    {
     "data": {
      "text/plain": [
       "True"
      ]
     },
     "execution_count": 12,
     "metadata": {},
     "output_type": "execute_result"
    }
   ],
   "source": [
    "dfs(start,goal)"
   ]
  },
  {
   "cell_type": "code",
   "execution_count": 16,
   "metadata": {},
   "outputs": [],
   "source": [
    "visited = [False] * (n + 1)\n",
    "par = [-1] * (n + 1)\n",
    "\n",
    "def bfs(start, goal):\n",
    "    queue = []\n",
    "    queue.append(start)\n",
    "    while(len(queue) != 0):\n",
    "        fr = queue[0]\n",
    "        visited[fr] = True\n",
    "        queue.pop(0)\n",
    "        for i in range(1, n + 1):\n",
    "            if(visited[i] == False and graph[fr][i] != inf):\n",
    "                par[i] = fr\n",
    "                if(i == goal):\n",
    "                    return True\n",
    "                queue.append(i)\n",
    "\n",
    "    return False"
   ]
  },
  {
   "cell_type": "code",
   "execution_count": 17,
   "metadata": {},
   "outputs": [
    {
     "name": "stdout",
     "output_type": "stream",
     "text": [
      "Path found:  1 -> 3 -> 4 -> \n"
     ]
    }
   ],
   "source": [
    "bfs(start,goal)\n",
    "cur = goal\n",
    "path = \"\"\n",
    "while(cur != -1):\n",
    "    path = path + \" >- \" + str(cur)\n",
    "    cur = par[cur]\n",
    "path = path[::-1]\n",
    "print(\"Path found: \", path)"
   ]
  },
  {
   "cell_type": "code",
   "execution_count": 19,
   "metadata": {},
   "outputs": [],
   "source": [
    "par = [-1] * (n + 1)\n",
    "dis = [inf] * (n + 1)\n",
    "def ucs(start, goal):\n",
    "    queue = []\n",
    "    dis[start] = 0\n",
    "    heapq.heappush(queue, (dis[start], start))\n",
    "    while(len(queue) > 0):\n",
    "        fr = queue[0][1]\n",
    "        heapq.heappop(queue)\n",
    "        for i in range(1, n + 1):\n",
    "            if(graph[fr][i] != inf and dis[i] == inf):\n",
    "                par[i] = fr\n",
    "                dis[i] = dis[fr] + graph[fr][i]\n",
    "                if(i == goal):\n",
    "                    return True\n",
    "                heapq.heappush(queue, (dis[i], i))\n",
    "\n",
    "    return False"
   ]
  },
  {
   "cell_type": "code",
   "execution_count": 20,
   "metadata": {},
   "outputs": [
    {
     "name": "stdout",
     "output_type": "stream",
     "text": [
      "Path found:  1 -> 2 -> 5 -> 4 -> \n"
     ]
    }
   ],
   "source": [
    "start = 1\n",
    "goal = 4\n",
    "ucs(start,goal)\n",
    "\n",
    "cur = goal\n",
    "path = \"\"\n",
    "while(cur != -1):\n",
    "    path = path + \" >- \" + str(cur)\n",
    "    cur = par[cur]\n",
    "path = path[::-1]\n",
    "print(\"Path found: \", path)"
   ]
  },
  {
   "cell_type": "code",
   "execution_count": null,
   "metadata": {},
   "outputs": [],
   "source": []
  }
 ],
 "metadata": {
  "kernelspec": {
   "display_name": "Python 3",
   "language": "python",
   "name": "python3"
  },
  "language_info": {
   "codemirror_mode": {
    "name": "ipython",
    "version": 3
   },
   "file_extension": ".py",
   "mimetype": "text/x-python",
   "name": "python",
   "nbconvert_exporter": "python",
   "pygments_lexer": "ipython3",
   "version": "3.8.3"
  }
 },
 "nbformat": 4,
 "nbformat_minor": 4
}
